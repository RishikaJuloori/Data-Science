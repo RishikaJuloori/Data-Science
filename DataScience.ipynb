{
 "cells": [
  {
   "cell_type": "code",
   "execution_count": 33,
   "metadata": {},
   "outputs": [
    {
     "data": {
      "text/html": [
       "<div>\n",
       "<style scoped>\n",
       "    .dataframe tbody tr th:only-of-type {\n",
       "        vertical-align: middle;\n",
       "    }\n",
       "\n",
       "    .dataframe tbody tr th {\n",
       "        vertical-align: top;\n",
       "    }\n",
       "\n",
       "    .dataframe thead th {\n",
       "        text-align: right;\n",
       "    }\n",
       "</style>\n",
       "<table border=\"1\" class=\"dataframe\">\n",
       "  <thead>\n",
       "    <tr style=\"text-align: right;\">\n",
       "      <th></th>\n",
       "      <th>StudentID</th>\n",
       "      <th>Name</th>\n",
       "    </tr>\n",
       "  </thead>\n",
       "  <tbody>\n",
       "    <tr>\n",
       "      <th>0</th>\n",
       "      <td>V001</td>\n",
       "      <td>Abe</td>\n",
       "    </tr>\n",
       "    <tr>\n",
       "      <th>1</th>\n",
       "      <td>V002</td>\n",
       "      <td>Abhay</td>\n",
       "    </tr>\n",
       "    <tr>\n",
       "      <th>2</th>\n",
       "      <td>V003</td>\n",
       "      <td>Acelin</td>\n",
       "    </tr>\n",
       "    <tr>\n",
       "      <th>3</th>\n",
       "      <td>V004</td>\n",
       "      <td>Adelphos</td>\n",
       "    </tr>\n",
       "  </tbody>\n",
       "</table>\n",
       "</div>"
      ],
      "text/plain": [
       "  StudentID      Name\n",
       "0      V001       Abe\n",
       "1      V002     Abhay\n",
       "2      V003    Acelin\n",
       "3      V004  Adelphos"
      ]
     },
     "execution_count": 33,
     "metadata": {},
     "output_type": "execute_result"
    }
   ],
   "source": [
    "#Importing pandas to create dataframes\n",
    "import pandas as pd\n",
    "\n",
    "#Creating the dataframe (table) for student names and their IDs\n",
    "name_list = [['V001','Abe'],['V002','Abhay'],['V003','Acelin'],['V004','Adelphos']]\n",
    "name_table = pd.DataFrame(name_list, columns=['StudentID', 'Name'])\n",
    "name_table"
   ]
  },
  {
   "cell_type": "code",
   "execution_count": 34,
   "metadata": {},
   "outputs": [
    {
     "data": {
      "text/html": [
       "<div>\n",
       "<style scoped>\n",
       "    .dataframe tbody tr th:only-of-type {\n",
       "        vertical-align: middle;\n",
       "    }\n",
       "\n",
       "    .dataframe tbody tr th {\n",
       "        vertical-align: top;\n",
       "    }\n",
       "\n",
       "    .dataframe thead th {\n",
       "        text-align: right;\n",
       "    }\n",
       "</style>\n",
       "<table border=\"1\" class=\"dataframe\">\n",
       "  <thead>\n",
       "    <tr style=\"text-align: right;\">\n",
       "      <th></th>\n",
       "      <th>StudentID</th>\n",
       "      <th>Total_marks</th>\n",
       "    </tr>\n",
       "  </thead>\n",
       "  <tbody>\n",
       "    <tr>\n",
       "      <th>0</th>\n",
       "      <td>V001</td>\n",
       "      <td>95</td>\n",
       "    </tr>\n",
       "    <tr>\n",
       "      <th>1</th>\n",
       "      <td>V002</td>\n",
       "      <td>80</td>\n",
       "    </tr>\n",
       "    <tr>\n",
       "      <th>2</th>\n",
       "      <td>V003</td>\n",
       "      <td>74</td>\n",
       "    </tr>\n",
       "    <tr>\n",
       "      <th>3</th>\n",
       "      <td>V004</td>\n",
       "      <td>81</td>\n",
       "    </tr>\n",
       "  </tbody>\n",
       "</table>\n",
       "</div>"
      ],
      "text/plain": [
       "  StudentID  Total_marks\n",
       "0      V001           95\n",
       "1      V002           80\n",
       "2      V003           74\n",
       "3      V004           81"
      ]
     },
     "execution_count": 34,
     "metadata": {},
     "output_type": "execute_result"
    }
   ],
   "source": [
    "#Creating the dataframe (table) for student IDs and their total marks\n",
    "mark_list = [['V001',95],['V002',80],['V003',74],['V004',81]]\n",
    "mark_table = pd.DataFrame(mark_list, columns=['StudentID','Total_marks'])\n",
    "mark_table"
   ]
  },
  {
   "cell_type": "code",
   "execution_count": 35,
   "metadata": {},
   "outputs": [
    {
     "data": {
      "text/plain": [
       "{'V001': ('Abe', 95), 'V004': ('Adelphos', 81)}"
      ]
     },
     "execution_count": 35,
     "metadata": {},
     "output_type": "execute_result"
    }
   ],
   "source": [
    "#a) Based on the following two tables, write a SQL query that returns the name and student ID of all students \n",
    "#that have a higher total marks score than the student that has StudentID of 'V002’\n",
    "\n",
    "#SQL Code also submitted\n",
    "\n",
    "threshold = mark_table.loc[mark_table['StudentID']=='V002']\n",
    "threshold = threshold['Total_marks']\n",
    "\n",
    "high_score = dict()\n",
    "\n",
    "for i in range(len(mark_table['Total_marks'])):\n",
    "    #print(mark_table['Total_marks'][i])\n",
    "    if mark_table['Total_marks'][i] > int(threshold):\n",
    "        high_score[mark_table['StudentID'][i]] = (name_table['Name'][i], mark_table['Total_marks'][i])\n",
    "high_score"
   ]
  },
  {
   "cell_type": "code",
   "execution_count": 36,
   "metadata": {},
   "outputs": [
    {
     "data": {
      "text/html": [
       "<div>\n",
       "<style scoped>\n",
       "    .dataframe tbody tr th:only-of-type {\n",
       "        vertical-align: middle;\n",
       "    }\n",
       "\n",
       "    .dataframe tbody tr th {\n",
       "        vertical-align: top;\n",
       "    }\n",
       "\n",
       "    .dataframe thead th {\n",
       "        text-align: right;\n",
       "    }\n",
       "</style>\n",
       "<table border=\"1\" class=\"dataframe\">\n",
       "  <thead>\n",
       "    <tr style=\"text-align: right;\">\n",
       "      <th></th>\n",
       "      <th>StudentID</th>\n",
       "      <th>Name</th>\n",
       "    </tr>\n",
       "  </thead>\n",
       "  <tbody>\n",
       "    <tr>\n",
       "      <th>0</th>\n",
       "      <td>V001</td>\n",
       "      <td>ABE</td>\n",
       "    </tr>\n",
       "    <tr>\n",
       "      <th>1</th>\n",
       "      <td>V002</td>\n",
       "      <td>abhay</td>\n",
       "    </tr>\n",
       "    <tr>\n",
       "      <th>2</th>\n",
       "      <td>V003</td>\n",
       "      <td>ACELIN</td>\n",
       "    </tr>\n",
       "    <tr>\n",
       "      <th>3</th>\n",
       "      <td>V004</td>\n",
       "      <td>ADELPHOS</td>\n",
       "    </tr>\n",
       "  </tbody>\n",
       "</table>\n",
       "</div>"
      ],
      "text/plain": [
       "  StudentID      Name\n",
       "0      V001       ABE\n",
       "1      V002     abhay\n",
       "2      V003    ACELIN\n",
       "3      V004  ADELPHOS"
      ]
     },
     "execution_count": 36,
     "metadata": {},
     "output_type": "execute_result"
    }
   ],
   "source": [
    "#b) Assume that the two tables are pandas data frame variables. \n",
    "#Based on those two data frames--utilizing pandas--write a python function that returns a new data frame version of\n",
    "#name_table, where each name containing the letter “e” is uppercased, and lowercased otherwise (e.g. “Edward” → “EDWARD”, “Bob” → “bob”).\n",
    "\n",
    "def letter_e(df):\n",
    "    #loop over the names to see which names contain the letter 'e'\n",
    "    for i in range(len(df['Name'])):\n",
    "        if 'e' in df['Name'][i]:\n",
    "            df['Name'][i] = df['Name'][i].upper()\n",
    "        elif 'e' not in df['Name'][i]:\n",
    "            df['Name'][i] = df['Name'][i].lower()\n",
    "    \n",
    "    #return the updated dataframe which contains upper case Names with letter 'e'\n",
    "    return df\n",
    "\n",
    "df = letter_e(name_table)\n",
    "df #updated dataframe"
   ]
  },
  {
   "cell_type": "code",
   "execution_count": 37,
   "metadata": {},
   "outputs": [
    {
     "name": "stdout",
     "output_type": "stream",
     "text": [
      "Average of upper case names:  83.33333333333333\n",
      "Average of lower case names:  80.0\n"
     ]
    }
   ],
   "source": [
    "#c) Now write a function that takes in the output of 1) b) and mark_table \n",
    "#and returns a data frame that summarizes the average grade of uppercase names and lowercase names\n",
    "\n",
    "def average(updated_df, mark_table):\n",
    "    upper_case = [] #Create lists for calculating average\n",
    "    lower_case = []\n",
    "    \n",
    "    #Loop over the names to find which names are upper cased and which ones are not\n",
    "    for i in range(len(updated_df['Name'])):\n",
    "        if updated_df['Name'][i].isupper():\n",
    "            upper_case.append(mark_table['Total_marks'][i]) #Append to appropriate lists for the calculation of averages\n",
    "        elif updated_df['Name'][i].islower():\n",
    "            lower_case.append(mark_table['Total_marks'][i])\n",
    "    print(\"Average of upper case names: \", (sum(upper_case)/len(upper_case))) #Print averages\n",
    "    print(\"Average of lower case names: \", (sum(lower_case)/len(lower_case)))\n",
    "            \n",
    "#Call the function to check\n",
    "average(df, mark_table)"
   ]
  },
  {
   "cell_type": "markdown",
   "metadata": {},
   "source": [
    "# Question 2"
   ]
  },
  {
   "cell_type": "code",
   "execution_count": 38,
   "metadata": {},
   "outputs": [],
   "source": [
    "# The data file did not load. The Github website did not show the dataset, instead showed a 404 Not found error.\n",
    "# The basic stragtegies to analyze a dataset would be as follows:\n",
    "\n",
    "#Loading the data set using pandas:\n",
    "# data = pd.read_csv(\"white_house_2017_salaries.csv\")\n",
    "\n",
    "#We can test to see if the data has been loaded correctly:\n",
    "# data.head()\n",
    "\n",
    "# A descibe method could be used to see the statistics of the data:\n",
    "# data.describe()\n",
    "\n",
    "#Based on the information, we can visualize the data and as scatter plots, line plots or histograms and bar graphs\n",
    "#import matplotlib.pyplot as plt\n",
    "#plt.scatter(x,y)\n",
    "#plt.bar(x,y)\n",
    "#plt.hist(x,y)\n",
    "\n",
    "#Incase there are data rows which have missing values, we can fill them with NaN values:\n",
    "#data.fillna()\n",
    "\n",
    "#If these data rows are not necessary:\n",
    "#data.dropna()\n",
    "\n",
    "#Based on the data and required output, more statistics and information can be extracted"
   ]
  },
  {
   "cell_type": "code",
   "execution_count": null,
   "metadata": {},
   "outputs": [],
   "source": []
  }
 ],
 "metadata": {
  "kernelspec": {
   "display_name": "Python 3",
   "language": "python",
   "name": "python3"
  },
  "language_info": {
   "codemirror_mode": {
    "name": "ipython",
    "version": 3
   },
   "file_extension": ".py",
   "mimetype": "text/x-python",
   "name": "python",
   "nbconvert_exporter": "python",
   "pygments_lexer": "ipython3",
   "version": "3.7.4"
  }
 },
 "nbformat": 4,
 "nbformat_minor": 2
}
